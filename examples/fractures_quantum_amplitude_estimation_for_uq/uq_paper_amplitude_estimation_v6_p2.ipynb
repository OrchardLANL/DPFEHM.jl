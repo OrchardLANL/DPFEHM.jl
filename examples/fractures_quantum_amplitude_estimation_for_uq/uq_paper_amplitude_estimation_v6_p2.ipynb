{
 "cells": [
  {
   "cell_type": "code",
   "execution_count": 1,
   "id": "e8c5cba8-5fac-47a3-9ef5-272503018d8f",
   "metadata": {},
   "outputs": [],
   "source": [
    "from qiskit import QuantumCircuit\n",
    "from qiskit.circuit.library import StatePreparation\n",
    "from qiskit.visualization import plot_state_qsphere\n",
    "from qiskit.quantum_info import Statevector\n",
    "\n",
    "# from qiskit.primitives import Sampler\n",
    "from qiskit_aer.primitives import Sampler\n",
    "# from qiskit_aer import Aer\n",
    "\n",
    "from qiskit_algorithms import EstimationProblem\n",
    "from qiskit_algorithms import AmplitudeEstimation\n",
    "from qiskit_algorithms import IterativeAmplitudeEstimation\n",
    "\n",
    "import os\n",
    "import math\n",
    "import random\n",
    "import numpy as np\n",
    "import pandas as pd\n",
    "from scipy.stats import weibull_min\n",
    "import matplotlib.pyplot as plt\n",
    "from scipy.optimize import curve_fit"
   ]
  },
  {
   "cell_type": "code",
   "execution_count": 2,
   "id": "f7732d28-186f-4ad5-a72f-c63332a01c45",
   "metadata": {},
   "outputs": [],
   "source": [
    "# Define the file paths and names\n",
    "sample_path = \"\"\n",
    "sample_filenames_ff = [\n",
    "    # \"values_b_0.25_0.75_f_1_6_m-7_5_2_21.csv\"      # 2^21 sample values\n",
    "    \"values_b_0.25_0.75_f_1_6_m-7_5_2_24.csv\"      # 2^24 sample values\n",
    "]\n",
    "\n",
    "# Initialize empty lists to store dataframes\n",
    "df_fracture_flow = []\n",
    "\n",
    "# Read CSV files and append dataframes to lists\n",
    "for filename in sample_filenames_ff:\n",
    "    df_fracture_flow.append(pd.read_csv(sample_path + filename, delimiter=' '))"
   ]
  },
  {
   "cell_type": "code",
   "execution_count": 3,
   "id": "4d26c3a2-91c6-4a52-972a-38b6fbd03f73",
   "metadata": {},
   "outputs": [
    {
     "name": "stdout",
     "output_type": "stream",
     "text": [
      "0.46767914 0.10935801\n",
      "6.169e-05 0.00020319\n"
     ]
    }
   ],
   "source": [
    "# ff_samples = df_fracture_flow[0].values.reshape(-1,1).flatten()\n",
    "ff_samples = df_fracture_flow[0]['ff_values'].values.reshape(-1,1).flatten()\n",
    "\n",
    "# ff_samples = 10**3 * (ff_samples - np.mean(ff_samples)) + 0.4952211418615139    # 1/2\n",
    "# ff_samples = 10**2.5 * (ff_samples - np.mean(ff_samples)) + np.mean(ff_samples)   # 10**1 10**2 10**3\n",
    "\n",
    "min_val_gt = np.min(ff_samples)\n",
    "max_val_gt = np.max(ff_samples)\n",
    "dif_max_min_val_gt = max_val_gt - min_val_gt\n",
    "\n",
    "ff_samples = (ff_samples - min_val_gt) / dif_max_min_val_gt\n",
    "# normalized_samples = (ff_samples - min_val_gt) / dif_max_min_val_gt\n",
    "\n",
    "ff_mean = np.mean(ff_samples)\n",
    "ff_var  = np.var(ff_samples)\n",
    "# ff_norm_mean = np.mean(normalized_samples)\n",
    "# ff_norm_var  = np.var(normalized_samples)\n",
    "\n",
    "# 0.46780252          0.10976517          (2^21 =   2,097,152)\n",
    "# 0.4676791381334724  0.10935801906740118 (2^24 =  16,777,216)\n",
    "# 0.46761745169574287 0.10915482016417172 (2^27 = 134,217,728)\n",
    "\n",
    "gt_mean = 0.46761745169574287\n",
    "gt_var  = 0.10915482016417172\n",
    "\n",
    "print(np.round(ff_mean,8), np.round(ff_var,8))\n",
    "print(np.round(np.abs(gt_mean-ff_mean),8), np.round(np.abs(gt_var-ff_var),8))\n",
    "# print(ff_samples, len(ff_samples), ff_samples.shape, type(ff_samples))\n",
    "# print(np.round(ff_mean,8), np.round(ff_var,8), np.round(ff_norm_mean,8), np.round(ff_norm_var,8))"
   ]
  },
  {
   "cell_type": "code",
   "execution_count": null,
   "id": "955d27ab-ce6b-48b6-9a38-6156026a8724",
   "metadata": {},
   "outputs": [],
   "source": []
  },
  {
   "cell_type": "code",
   "execution_count": 4,
   "id": "f36aec27-42ce-4cf3-b95d-2ac68456257d",
   "metadata": {},
   "outputs": [],
   "source": [
    "# Function to calculate the sample average and the error\n",
    "def sample_error(sample_mean, distribution_mean):\n",
    "    error = np.abs(sample_mean - distribution_mean)\n",
    "    return error\n",
    "\n",
    "# Function to calculate the sample average and the error\n",
    "def sample_relative_error(sample_mean, distribution_mean):\n",
    "    if distribution_mean != 0:\n",
    "        error = np.abs( sample_mean / distribution_mean - 1 )\n",
    "    else:\n",
    "        error = -1\n",
    "    return error\n",
    "\n",
    "# Function to generate tuple of (value,count) pairs\n",
    "def unique_values_with_counts(arr):\n",
    "    # Dictionary to count occurrences of each value\n",
    "    counts = {}\n",
    "    for num in arr:\n",
    "        if num in counts:\n",
    "            counts[num] += 1\n",
    "        else:\n",
    "            counts[num] = 1\n",
    "    \n",
    "    # Generate the result array with values and their counts\n",
    "    result = [(value, count) for value, count in counts.items()]\n",
    "    \n",
    "    return result"
   ]
  },
  {
   "cell_type": "code",
   "execution_count": 5,
   "id": "f7922914-5492-4d8e-adf3-d6e20b34f5d2",
   "metadata": {},
   "outputs": [],
   "source": [
    "# Function to generate psi basis state index tuples of (value,count) pairs\n",
    "#   digits_precision_circuit - circuit precision base 2\n",
    "def psi_basis_state_sample_index_counts(digits_precision_circuit=4, scaling_samples=20):\n",
    "\n",
    "    # ff_samples test_ff test_rvw_ff\n",
    "    data_samples = ff_samples\n",
    "    \n",
    "    dist_samples = np.array(random.sample(list(data_samples), 2**(scaling_samples)))\n",
    "    # dist_samples = ff_samples[0:2**scaling_samples]\n",
    "    dist_sample_mean = np.mean(dist_samples)\n",
    "\n",
    "    print(len(dist_samples))\n",
    "\n",
    "    # Normalize samples between 0 and 1\n",
    "    \n",
    "    # normalized dist mean ground truth (all samples)\n",
    "\n",
    "    dist_mean = np.mean(data_samples)\n",
    "\n",
    "    min_val_gt = np.min(data_samples)\n",
    "    max_val_gt = np.max(data_samples)\n",
    "    dif_max_min_val_gt = max_val_gt - min_val_gt\n",
    "\n",
    "    dist_mean_normalized = (dist_mean - min_val_gt) / dif_max_min_val_gt\n",
    "\n",
    "    # min_val = np.min(dist_samples)\n",
    "    # max_val = np.max(dist_samples)\n",
    "    # dif_max_min_val = max_val - min_val\n",
    "\n",
    "    normalized_samples = (dist_samples - min_val_gt) / dif_max_min_val_gt\n",
    "    # normalized_samples = (dist_samples - min_val) / dif_max_min_val\n",
    "    \n",
    "    # print(min_val)\n",
    "    # print(max_val)\n",
    "    # print(dif_max_min_val)\n",
    "    # print(type(normalized_samples))\n",
    "    # print(normalized_samples)\n",
    "\n",
    "    dist_sample_mean_normalized = (dist_sample_mean - min_val_gt) / dif_max_min_val_gt\n",
    "    # dist_sample_mean_normalized = (dist_sample_mean - min_val) / dif_max_min_val\n",
    "    \n",
    "    # compute index discrete distribution\n",
    "    normalized_samples_int_dec_rnd = np.array([int(np.round(sample_value)) if np.round(sample_value) < 2**digits_precision_circuit else 2**digits_precision_circuit-1 for sample_value in normalized_samples * 2**digits_precision_circuit])\n",
    "    \n",
    "    # tally up sample values and counts\n",
    "    index_circuit_unique_counts = unique_values_with_counts(normalized_samples_int_dec_rnd)\n",
    "\n",
    "    # print(dist_mean, dist_sample_mean, dist_mean_normalized, dist_sample_mean_normalized)\n",
    "    # print(len(index_circuit_unique_counts))\n",
    "    # print(index_circuit_unique_counts)\n",
    "\n",
    "    print()\n",
    "\n",
    "    return index_circuit_unique_counts, dist_mean_normalized, dist_sample_mean_normalized"
   ]
  },
  {
   "cell_type": "code",
   "execution_count": 6,
   "id": "c4ea3fbc-c8d1-42dd-87cb-6febe219a84c",
   "metadata": {},
   "outputs": [],
   "source": [
    "# Function to generate psi basis state index tuples of (value,count) pairs\n",
    "#   index_circuit_unique_counts - psi basis state counts\n",
    "#   digits_precision_circuit - circuit precision base 2\n",
    "def psi_generate_qc(index_circuit_unique_counts, digits_precision_circuit=4, scaling_samples = 20):\n",
    "\n",
    "    # number of bins for distribution\n",
    "    estimate_samples_inv = 2**(-scaling_samples)\n",
    "    \n",
    "    # Create the full state vector of size dist_bins and initialize to zero\n",
    "    state_vector = np.zeros(2**(digits_precision_circuit+1), dtype=complex)\n",
    "    \n",
    "    print(len(state_vector))\n",
    "    \n",
    "    # sample_value_index - psi basis state index\n",
    "    # sample_value_phi - assigned to corresponding index (state psi) multiplied by probability\n",
    "    \n",
    "    # Assign the given amplitudes to the corresponding basis state indices\n",
    "    psi_mean_normalized = 0\n",
    "    for sample_value_index, count in index_circuit_unique_counts:\n",
    "        sample_value_phi = sample_value_index * 2**(-digits_precision_circuit)\n",
    "        state_vector[sample_value_index*2 + 1] = np.sqrt(sample_value_phi * count * estimate_samples_inv)\n",
    "        state_vector[sample_value_index*2 + 0] = np.sqrt((1 - sample_value_phi) * count * estimate_samples_inv)\n",
    "        psi_mean_normalized += sample_value_phi * count * estimate_samples_inv\n",
    "\n",
    "    print(psi_mean_normalized)\n",
    "\n",
    "    print()\n",
    "    \n",
    "    # Normalize the state vector\n",
    "    state_vector /= np.linalg.norm(state_vector)\n",
    "    \n",
    "    # Create a quantum circuit with n+1 qubits\n",
    "    qc = QuantumCircuit(digits_precision_circuit+1)\n",
    "    \n",
    "    # Use StatePreparation to initialize the state\n",
    "    state_prep = StatePreparation(state_vector)\n",
    "    qc.append(state_prep, list(range(digits_precision_circuit+1)))\n",
    "    \n",
    "    # # Draw the circuit\n",
    "    # qc.draw(output='mpl', style='clifford')\n",
    "\n",
    "    return qc"
   ]
  },
  {
   "cell_type": "code",
   "execution_count": null,
   "id": "63aed289-12c6-4e45-b498-ba3b83d81efc",
   "metadata": {},
   "outputs": [],
   "source": []
  },
  {
   "cell_type": "code",
   "execution_count": 7,
   "id": "05e5aebd-82c6-468c-a11f-7675f1159b79",
   "metadata": {},
   "outputs": [
    {
     "name": "stdout",
     "output_type": "stream",
     "text": [
      "16777216\n",
      "\n",
      "128\n",
      "0.4675970422104001\n",
      "\n",
      "0.4676791381334728\n",
      "0.46761745169574287 6.168643772991311e-05\n",
      "\n",
      "[0.46767914]\n",
      "[0.0]\n",
      "[0.46774082]\n",
      "[1.0]\n",
      "[2]\n",
      "\n",
      "CPU times: user 58.7 s, sys: 311 ms, total: 59 s\n",
      "Wall time: 59 s\n"
     ]
    }
   ],
   "source": [
    "%%time\n",
    "digits_precision_circuit_MAX   = 1     # base 2 precision = ceil(log2(10**digits_precision_base_10))\n",
    "digits_precision_circuit_FIXED = 6     # fixed size state psi\n",
    "digits_precision_OUT           = 8     # base 10 precision output\n",
    "SHOTS                          = 2**10 # number of measurements\n",
    "\n",
    "\n",
    "qae_problem_list = []\n",
    "qae_ae_list = []\n",
    "qae_dist_mean_list = []\n",
    "qae_sample_mean_list = []\n",
    "qae_sample_error_list = []\n",
    "qae_sample_relative_error_list = []\n",
    "qae_sample_scaling_list = []\n",
    "\n",
    "# Iterate over circuit digits of precision\n",
    "for digits_precision_circuit in range(1, digits_precision_circuit_MAX+1):\n",
    "\n",
    "    dpc = digits_precision_circuit_FIXED\n",
    "    # dpc = math.ceil( digits_precision_circuit_FIXED * digits_precision_circuit / digits_precision_circuit_MAX )\n",
    "\n",
    "    ss = int(math.log2(len(ff_samples)))\n",
    "    # ss = 2*digits_precision_circuit\n",
    "\n",
    "    index_circuit_unique_counts, dist_mean_normalized, dist_sample_mean_normalized = psi_basis_state_sample_index_counts(digits_precision_circuit=dpc, scaling_samples=ss)\n",
    "\n",
    "    qc = psi_generate_qc(index_circuit_unique_counts, digits_precision_circuit=dpc, scaling_samples=ss)\n",
    "\n",
    "    problem = EstimationProblem(\n",
    "        state_preparation=qc,  # A operator\n",
    "        objective_qubits=[0]   # the \"good\" state Psi1 is identified as measuring |1> in qubit 0\n",
    "    )\n",
    "\n",
    "    neq = digits_precision_circuit\n",
    "    \n",
    "    # Initialize the Sampler with options for fastest simulation\n",
    "    sampler = Sampler(\n",
    "        # backend_options={},\n",
    "        run_options={\"shots\": SHOTS, \"seed\": 42},  # number of shots for simulation, random seed\n",
    "        # skip_transpilation=True  # Skip transpilation for speed\n",
    "    )\n",
    "\n",
    "    # Initialize the Sampler with options for fastest simulation\n",
    "    # sampler = Sampler(\n",
    "    #     options={\n",
    "    #         \"shots\": 1,  # specify number of measurement (default=2^10)\n",
    "    #         \"seed\": 42,  # fixed random seed for reproducibility\n",
    "    #     }\n",
    "    # )\n",
    "        \n",
    "    # sampler = Sampler()\n",
    "    ae = AmplitudeEstimation(\n",
    "        num_eval_qubits=neq,  # the number of evaluation qubits specifies circuit width and accuracy\n",
    "        sampler=sampler\n",
    "    )\n",
    "\n",
    "    ae_result = ae.estimate(problem)\n",
    "    \n",
    "    est_qoi_normalized = ae_result.estimation\n",
    "    num_queries = int(ae_result.num_oracle_queries / SHOTS)\n",
    "    # num_queries = ae_result.num_oracle_queries\n",
    "    \n",
    "    # dist_mean_normalized = 0.46761745169574287 # 0.46761745169574287 0.10915482016417172 2_27 (2^27 = 134,217,728)\n",
    "    \n",
    "    gt_mean = 0.46761745169574287\n",
    "    gt_mean_err  = np.abs(gt_mean - dist_mean_normalized)\n",
    "    print(dist_mean_normalized)\n",
    "    print(gt_mean, gt_mean_err)\n",
    "    print()\n",
    "\n",
    "    dist_mean_normalized_out = float(np.round(dist_mean_normalized, digits_precision_OUT))\n",
    "    sample_mean_out = float(np.round(est_qoi_normalized, digits_precision_OUT))\n",
    "    sample_error_out = float(np.round(sample_error(est_qoi_normalized, dist_mean_normalized) + gt_mean_err, digits_precision_OUT))\n",
    "    sample_relative_error_out = float(np.round(sample_relative_error(est_qoi_normalized, dist_mean_normalized), digits_precision_OUT))\n",
    "\n",
    "    qae_problem_list.append(problem)\n",
    "    qae_ae_list.append(ae)\n",
    "    qae_dist_mean_list.append(dist_mean_normalized_out)\n",
    "    qae_sample_mean_list.append(sample_mean_out)\n",
    "    qae_sample_error_list.append(sample_error_out)\n",
    "    qae_sample_relative_error_list.append(sample_relative_error_out)\n",
    "    qae_sample_scaling_list.append(num_queries+1) # total applications of A\n",
    "\n",
    "\n",
    "print(qae_dist_mean_list)\n",
    "print(qae_sample_mean_list)\n",
    "print(qae_sample_error_list)\n",
    "print(qae_sample_relative_error_list)\n",
    "print(qae_sample_scaling_list)\n",
    "\n",
    "print()\n",
    "\n",
    "\n",
    "# problem = problem_list[0]\n",
    "# ae = ae_list[0]\n",
    "\n",
    "# ae_circuit = ae.construct_circuit(problem)\n",
    "# ae_circuit.decompose().draw(\n",
    "#     \"mpl\", style=\"clifford\"\n",
    "# )  # decompose 1 level: exposes the Phase estimation circuit!\n",
    "\n",
    "\n",
    "# print(dist_mean, dist_sample_mean, dist_mean_normalized, dist_sample_mean_normalized)\n",
    "\n"
   ]
  },
  {
   "cell_type": "code",
   "execution_count": null,
   "id": "954ea0ed-ed65-412c-a6ac-6f5d49a74e63",
   "metadata": {},
   "outputs": [],
   "source": []
  },
  {
   "cell_type": "code",
   "execution_count": 56,
   "id": "b4b4e8e2-0a3d-49d9-bd81-58808ac2074b",
   "metadata": {},
   "outputs": [
    {
     "name": "stdout",
     "output_type": "stream",
     "text": [
      "[0.46767914, 0.46767914, 0.46767914, 0.46767914, 0.46767914, 0.46767914, 0.46767914, 0.46767914, 0.46767914, 0.46767914, 0.46767914, 0.46767914]\n",
      "[0.0, 0.5, 0.5, 0.5, 0.5, 0.4509914, 0.4754662, 0.4632177, 0.4693396, 0.466278, 0.4678087, 0.4678087]\n",
      "[0.46774082, 0.03238255, 0.03238255, 0.03238255, 0.03238255, 0.01674942, 0.00784875, 0.00452312, 0.00172215, 0.00146282, 0.00019125, 0.00019125]\n",
      "[2, 4, 8, 16, 32, 64, 128, 256, 512, 1024, 2048, 4096]\n"
     ]
    }
   ],
   "source": [
    "# qae_dist_mean_list_back      = qae_dist_mean_list.copy()\n",
    "# qae_sample_mean_list_back    = qae_sample_mean_list.copy()\n",
    "# qae_sample_error_list_back   = qae_sample_error_list.copy()\n",
    "# qae_sample_scaling_list_back = qae_sample_scaling_list.copy()\n",
    "\n",
    "print(qae_dist_mean_list_back)\n",
    "print(qae_sample_mean_list_back)\n",
    "print(qae_sample_error_list_back)\n",
    "print(qae_sample_scaling_list_back)"
   ]
  },
  {
   "cell_type": "code",
   "execution_count": 7,
   "id": "fc18af23-1918-4c38-9907-11b945c441cd",
   "metadata": {},
   "outputs": [],
   "source": [
    "# qae_dist_mean_list = [0.46767914, 0.46767914, 0.46767914, 0.46767914, 0.46767914, 0.46767914, 0.46767914, 0.46767914, 0.46767914, 0.46767914, 0.46767914, 0.46767914]\n",
    "# qae_sample_mean_list = [0.0, 0.5, 0.5, 0.5, 0.5, 0.4509914, 0.4754662, 0.4632177, 0.4693396, 0.466278, 0.4678087, 0.4678087]\n",
    "# qae_sample_error_list = [0.46774082, 0.03238255, 0.03238255, 0.03238255, 0.03238255, 0.01674942, 0.00784875, 0.00452312, 0.00172215, 0.00146282, 0.00019125, 0.00019125]\n",
    "# qae_sample_scaling_list = [2, 4, 8, 16, 32, 64, 128, 256, 512, 1024, 2048, 4096]"
   ]
  },
  {
   "cell_type": "code",
   "execution_count": null,
   "id": "cabd6a63-cea9-4c05-9fd7-dfc7e10e5726",
   "metadata": {},
   "outputs": [],
   "source": []
  },
  {
   "cell_type": "code",
   "execution_count": 8,
   "id": "aee2e706-5734-4af9-8b0b-888154bc078c",
   "metadata": {},
   "outputs": [
    {
     "name": "stdout",
     "output_type": "stream",
     "text": [
      "{   'circuit_results': {   '001010111100': 1,\n",
      "                           '001100111100': 1,\n",
      "                           '010101000011': 1,\n",
      "                           '011010111100': 1},\n",
      "    'confidence_interval': (   np.float64(0.4673180714857217),\n",
      "                               np.float64(0.46821842154593973)),\n",
      "    'confidence_interval_processed': (   np.float64(0.4673180714857217),\n",
      "                                         np.float64(0.46821842154593973)),\n",
      "    'estimation': np.float64(0.4678087),\n",
      "    'estimation_processed': np.float64(0.4678087),\n",
      "    'max_probability': 0.5,\n",
      "    'measurements': {972: 0.25, 980: 0.25, 982: 0.25, 3114: 0.25},\n",
      "    'mle': np.float64(0.4675071900038974),\n",
      "    'mle_processed': np.float64(0.4675071900038974),\n",
      "    'num_evaluation_qubits': 12,\n",
      "    'num_oracle_queries': 16380,\n",
      "    'samples': {   np.float64(0.4601588): 0.25,\n",
      "                   np.float64(0.466278): 0.25,\n",
      "                   np.float64(0.4678087): 0.5},\n",
      "    'samples_processed': {   np.float64(0.4601588): 0.25,\n",
      "                             np.float64(0.466278): 0.25,\n",
      "                             np.float64(0.4678087): 0.5},\n",
      "    'shots': 4}\n"
     ]
    }
   ],
   "source": [
    "print(ae_result)"
   ]
  },
  {
   "cell_type": "code",
   "execution_count": 9,
   "id": "0da772ee-7c94-4de0-9e77-c3216d46ed09",
   "metadata": {},
   "outputs": [
    {
     "name": "stdout",
     "output_type": "stream",
     "text": [
      "4 4 3 3\n"
     ]
    }
   ],
   "source": [
    "test = ae_result.circuit_results\n",
    "test2 = ae_result.measurements\n",
    "test3 = ae_result.samples\n",
    "test4 = ae_result.samples_processed\n",
    "print(len(test),len(test2),len(test3),len(test4))"
   ]
  },
  {
   "cell_type": "code",
   "execution_count": 10,
   "id": "50932b9f-6b90-4a35-8e5e-2777766229a7",
   "metadata": {},
   "outputs": [
    {
     "data": {
      "text/plain": [
       "{np.float64(0.466278): 0.25,\n",
       " np.float64(0.4678087): 0.5,\n",
       " np.float64(0.4601588): 0.25}"
      ]
     },
     "execution_count": 10,
     "metadata": {},
     "output_type": "execute_result"
    }
   ],
   "source": [
    "test4"
   ]
  },
  {
   "cell_type": "code",
   "execution_count": 11,
   "id": "c7bf524f-6a05-4b2d-8d4b-a643410be0d6",
   "metadata": {},
   "outputs": [
    {
     "name": "stdout",
     "output_type": "stream",
     "text": [
      "4\n"
     ]
    }
   ],
   "source": [
    "total_sum = sum(test.values())\n",
    "print(total_sum)"
   ]
  },
  {
   "cell_type": "code",
   "execution_count": null,
   "id": "9a40bc3e-f811-4252-bf4b-0eb820fe8001",
   "metadata": {},
   "outputs": [],
   "source": []
  },
  {
   "cell_type": "code",
   "execution_count": 8,
   "id": "1b9ac945-0667-481d-b50e-c9e97ba591be",
   "metadata": {},
   "outputs": [
    {
     "name": "stdout",
     "output_type": "stream",
     "text": [
      "[0.46761745, 0.46761745, 0.46761745, 0.46761745, 0.46761745, 0.46761745, 0.46761745, 0.46761745, 0.46761745, 0.46761745, 0.46761745, 0.46761745]\n",
      "[0.84187513, 0.58206603, 0.40309232, 0.53850446, 0.52735286, 0.56398538, 0.51895172, 0.49804507, 0.44981628, 0.46256676, 0.45031051, 0.4564676]\n",
      "[0.37425768, 0.11444857, 0.06452513, 0.07088701, 0.05973541, 0.09636793, 0.05133427, 0.03042762, 0.01780117, 0.00505069, 0.01730695, 0.01114985]\n",
      "[0.80035011, 0.24474829, 0.13798701, 0.15159188, 0.12774419, 0.20608283, 0.10977834, 0.06506947, 0.03806781, 0.0108009, 0.03701091, 0.02384396]\n",
      "[2, 4, 8, 16, 32, 64, 128, 256, 512, 1024, 2048, 4096]\n",
      "\n",
      "CPU times: user 4.57 s, sys: 764 ms, total: 5.34 s\n",
      "Wall time: 5.39 s\n"
     ]
    }
   ],
   "source": [
    "%%time\n",
    "sample_scaling_MAX             = 12   # distribution sample size base 2\n",
    "digits_precision_OUT           = 8    # base 10 precision output\n",
    "\n",
    "cmc_dist_mean_list = []\n",
    "cmc_sample_mean_list = []\n",
    "cmc_sample_error_list = []\n",
    "cmc_sample_relative_error_list = []\n",
    "cmc_sample_scaling_list = []\n",
    "for sample_scaling in range(1, sample_scaling_MAX+1):\n",
    "\n",
    "    # sample dist for comparision sample scaling cmc vs qae\n",
    "\n",
    "    # Generating data for the dist\n",
    "    gt_ff = ff_samples # ff_samples test_ff test_rvw_ff\n",
    "    # mean for fracture flow dist\n",
    "    gt_ff_mean = np.mean(gt_ff)\n",
    "    # mean for fracture flow dist samples\n",
    "    random.seed(42 + 6) # random seed 3 23 26 30 39 / \n",
    "    sample_ff = np.array(random.sample(list(gt_ff), 2**(sample_scaling)))\n",
    "    sample_ff_mean = np.mean(sample_ff)\n",
    "\n",
    "    \n",
    "    # INSTEAD - 5 or 10 runs then take avg of estimation error (NOT S_n's)\n",
    "    \n",
    "    # # take the sample average over 10 iterations\n",
    "    # sample_ff_mean_list = []\n",
    "    # for i in range(0, 10): \n",
    "    #     # mean for fracture flow dist samples\n",
    "    #     # np.random.seed(4)\n",
    "    #     sample_ff = np.array(random.sample(list(gt_ff), 2**(sample_scaling)))\n",
    "    #     # sample_ff = np.array(random.sample(list(gt_ff), 2**(2*sample_scaling)))\n",
    "    #     sample_ff_mean_list.append(float(np.mean(sample_ff)))\n",
    "\n",
    "    # sample_ff_mean = np.mean(sample_ff_mean_list)\n",
    "\n",
    "    # print(len(gt_ff))\n",
    "    # print(len(sample_ff))\n",
    "\n",
    "    gt_ff_mean = 0.46761745169574287 # 0.46761745169574287 0.10915482016417172 2_27 (2^27 = 134,217,728)\n",
    "\n",
    "    gt_ff_mean_out = float(np.round(gt_ff_mean, digits_precision_OUT))\n",
    "    sample_ff_mean_out = float(np.round(sample_ff_mean, digits_precision_OUT))\n",
    "    sample_error_out = float(np.round(sample_error(sample_ff_mean, gt_ff_mean), digits_precision_OUT))\n",
    "    # sample_error_out = float(np.max([np.round(sample_error(sample_ff_mean, gt_ff_mean), digits_precision_OUT), 10**(-digits_precision_OUT)]))\n",
    "    sample_relative_error_out = float(np.round(sample_relative_error(sample_ff_mean, gt_ff_mean), digits_precision_OUT))\n",
    "\n",
    "    cmc_dist_mean_list.append(gt_ff_mean_out)\n",
    "    cmc_sample_mean_list.append(sample_ff_mean_out)\n",
    "    cmc_sample_error_list.append(sample_error_out)\n",
    "    cmc_sample_relative_error_list.append(sample_relative_error_out)\n",
    "    cmc_sample_scaling_list.append(2**sample_scaling)\n",
    "\n",
    "\n",
    "print(cmc_dist_mean_list)\n",
    "print(cmc_sample_mean_list)\n",
    "print(cmc_sample_error_list)\n",
    "print(cmc_sample_relative_error_list)\n",
    "print(cmc_sample_scaling_list)\n",
    "\n",
    "print()\n",
    "\n"
   ]
  },
  {
   "cell_type": "code",
   "execution_count": null,
   "id": "be618652-a7ee-4a92-9175-06882353394c",
   "metadata": {},
   "outputs": [],
   "source": []
  },
  {
   "cell_type": "code",
   "execution_count": 9,
   "id": "df00a18a-bd1b-4857-b10f-2fceeb812b28",
   "metadata": {},
   "outputs": [
    {
     "data": {
      "image/png": "[encoded data removed]",
      "text/plain": [
       "<Figure size 800x600 with 1 Axes>"
      ]
     },
     "metadata": {},
     "output_type": "display_data"
    }
   ],
   "source": [
    "# data for the fracture flow distributions\n",
    "data_FF = ff_samples\n",
    "# data_FF = test_ff\n",
    "# data_FF = test_rvw_ff\n",
    "\n",
    "# Plotting the histograms of the distributions\n",
    "plt.figure(figsize=(8, 6))\n",
    "\n",
    "plt.hist(data_FF, bins=2**6, color='blue', alpha=0.7)\n",
    "plt.title('Fracture Flow Distribution')\n",
    "plt.xlabel('Value')\n",
    "plt.ylabel('Frequency')\n",
    "\n",
    "plt.tight_layout()\n",
    "# plt.savefig('dist_fracture_flow_asym.png', dpi=300)  # Save as a high-resolution image\n",
    "plt.show()"
   ]
  },
  {
   "cell_type": "code",
   "execution_count": null,
   "id": "4a124372-e787-4b1a-a8de-88b837eb2966",
   "metadata": {},
   "outputs": [],
   "source": []
  },
  {
   "cell_type": "code",
   "execution_count": 10,
   "id": "fb1836d9-4db1-48b9-9f6b-39facfb109c7",
   "metadata": {},
   "outputs": [],
   "source": [
    "# Define the function we want to fit: y = m * 1/x\n",
    "def curve_func_ae(x, m):\n",
    "    return m / x\n",
    "    \n",
    "# Define the function we want to fit: y = m * 1/sqrt(x)\n",
    "def curve_func_mc(x, m):\n",
    "    return m / np.sqrt(x)\n",
    "\n",
    "# use a power law relationship: y = alpha * x^beta\n",
    "def power_law(x, alpha, beta):\n",
    "    return alpha * np.power(x, beta)\n",
    "\n",
    "def linear_law(x, m, b):\n",
    "    return m * x + b"
   ]
  },
  {
   "cell_type": "code",
   "execution_count": 11,
   "id": "bb270755-234c-448c-a5be-93f9baffe2c6",
   "metadata": {},
   "outputs": [
    {
     "name": "stdout",
     "output_type": "stream",
     "text": [
      "Fitted parameters: m_ae = [0.74818612]\n",
      "Fitted parameters: m_mc = [0.39304131]\n"
     ]
    }
   ],
   "source": [
    "# Convert to numpy arrays\n",
    "x_data = np.array(qae_sample_scaling_list)\n",
    "y_data = np.array(qae_sample_error_list) #, dtype=\"float64\"\n",
    "\n",
    "# Perform the curve fit\n",
    "params, covariance = curve_fit(curve_func_ae, x_data, y_data)\n",
    "# Extract the fitting parameters\n",
    "m_fit_ae = params\n",
    "# Generate values for the fitted line\n",
    "y_fit_ae = curve_func_ae(x_data, m_fit_ae)\n",
    "\n",
    "# # Perform the curve fit\n",
    "# params, covariance = curve_fit(linear_law, np.log2(x_data), np.log2(y_data))\n",
    "# # params, covariance = curve_fit(linear_law, np.log2(x_data), np.log10(y_data))\n",
    "# # params, covariance = curve_fit(power_law, x_data, y_data)\n",
    "# # Extract the fitting parameters\n",
    "# m_fit_ae, b_fit_ae = params\n",
    "# # alpha_fit_ae, beta_fit_ae = params\n",
    "# # Generate values for the fitted line\n",
    "# # Convert parameters back: y = alpha x^beta   <--->   log2(y) = log2(alpha) + beta * log2(x)\n",
    "# # CoB log10(y) = log2(y) / log2(10)             -->   log10(y) = 1/log2(10) (log2(alpha) + beta * log2(x))\n",
    "# # linear fit                                    -->   log2_y  = m log2_x + b -> m = beta, b = log2(alpha)\n",
    "# # linear fit                                    -->   log10_y = m log2_x + b -> m = beta/log2(10), b = log2(alpha)/log2(10)\n",
    "# y_fit_ae = power_law(x_data, 2**b_fit_ae, m_fit_ae)\n",
    "# # y_fit_ae = power_law(x_data, 10**b_fit_ae, m_fit_ae*np.log2(10))\n",
    "# # y_fit_ae = power_law(x_data, alpha_fit_ae, beta_fit_ae)\n",
    "\n",
    "# print(params, covariance)\n",
    "\n",
    "# print(x_data)\n",
    "# print(y_data)\n",
    "# print(y_fit_ae)\n",
    "\n",
    "# Convert to numpy arrays\n",
    "x_data = np.array(cmc_sample_scaling_list)\n",
    "y_data = np.array(cmc_sample_error_list)\n",
    "\n",
    "# Perform the curve fit\n",
    "params, covariance = curve_fit(curve_func_mc, x_data, y_data)\n",
    "# Extract the fitting parameters\n",
    "m_fit_mc = params\n",
    "# Generate values for the fitted line\n",
    "y_fit_mc = curve_func_mc(x_data, m_fit_mc)\n",
    "\n",
    "# # Perform the curve fit\n",
    "# params, covariance = curve_fit(linear_law, np.log2(x_data), np.log2(y_data))\n",
    "# # params, covariance = curve_fit(power_law, x_data, y_data)\n",
    "# # Extract the fitting parameters\n",
    "# m_fit_mc, b_fit_mc = params\n",
    "# # alpha_fit_mc, beta_fit_mc = params\n",
    "# # Generate values for the fitted line\n",
    "# y_fit_mc = power_law(x_data, 2**b_fit_mc, m_fit_mc)\n",
    "# # y_fit_mc = power_law(x_data, alpha_fit_mc, beta_fit_mc)\n",
    "\n",
    "# print(x_data)\n",
    "# print(y_data)\n",
    "# print(y_fit_mc)\n",
    "\n",
    "# Print the fitted parameters\n",
    "print(f\"Fitted parameters: m_ae = {m_fit_ae}\")\n",
    "print(f\"Fitted parameters: m_mc = {m_fit_mc}\")\n",
    "\n",
    "# print(f\"Fitted parameters: alpha_fit_ae = {2**b_fit_ae}, beta_fit_ae = {m_fit_ae}\")\n",
    "# print(f\"Fitted parameters: alpha_fit_ae = {10**b_fit_ae}, beta_fit_ae = {m_fit_ae*np.log2(10)}\")\n",
    "# print(f\"Fitted parameters: alpha_fit_ae = {alpha_fit_ae}, beta_fit_ae = {beta_fit_ae}\")\n",
    "# print(f\"Fitted parameters: alpha_fit_mc = {2**b_fit_mc}, beta_fit_ae = {m_fit_mc}\")\n",
    "# print(f\"Fitted parameters: alpha_fit_mc = {alpha_fit_mc}, beta_fit_mc = {beta_fit_mc}\")"
   ]
  },
  {
   "cell_type": "code",
   "execution_count": 13,
   "id": "2b0690b0-03ea-4129-8abf-020f2999805b",
   "metadata": {},
   "outputs": [
    {
     "data": {
      "image/png": "[encoded data removed]",
      "text/plain": [
       "<Figure size 800x600 with 1 Axes>"
      ]
     },
     "metadata": {},
     "output_type": "display_data"
    }
   ],
   "source": [
    "# plot error vs number of samples qae vs cmc / fracture flow distribution\n",
    "\n",
    "# y_ae_error_vs_ss = 4/20 * (2*np.pi*np.sqrt(gt_mean*(1-gt_mean)) * 1/np.asarray(qae_sample_scaling_list) + (np.pi / np.asarray(qae_sample_scaling_list))**2)\n",
    "# y_ae_error_vs_ss = 18/20 * 1/np.asarray(qae_sample_scaling_list)            # 12/20 samples = 1/epsilon   => error = 1/samples\n",
    "\n",
    "# y_mc_error_vs_ss =  8/20 * 1/np.sqrt(np.asarray(cmc_sample_scaling_list))     # 5/20 samples = 1/epsilon^2 => error = 1/sqrt(samples)\n",
    "# y_mc_error_vs_ss =  11/2 * 1/np.sqrt(np.asarray(cmc_sample_scaling_list))   # samples = 1/epsilon^2 => error = 1/sqrt(samples)\n",
    "\n",
    "# Plotting the error\n",
    "plt.figure(figsize=(8, 6))\n",
    "plt.plot(qae_sample_scaling_list, qae_sample_error_list, color='tab:orange', marker='^', linestyle='-', label='Quantum Amplitude Estimation')\n",
    "plt.plot(cmc_sample_scaling_list, cmc_sample_error_list, color='tab:blue', marker='o', linestyle='-', label='Classical Monte Carlo')\n",
    "# plt.plot(qae_sample_scaling_list, y_ae_error_vs_ss, color='tab:orange', linestyle='--', alpha=0.5, label=r'$\\epsilon=O(1/M)$') # -- -. : tab:orange\n",
    "# plt.plot(cmc_sample_scaling_list, y_mc_error_vs_ss, color='tab:blue', linestyle='--', alpha=0.5, label=r'$\\epsilon=O(1/\\sqrt{M})$')   # tab:blue\n",
    "# fit_ae_a_0.40_b_-0.88_mc_a_0.28_b_-0.42\n",
    "plt.plot(qae_sample_scaling_list, y_fit_ae, color='tab:orange', linestyle='--', alpha=0.5, label=r'$\\epsilon=0.40 \\dfrac{1}{M^{0.88}}$')\n",
    "plt.plot(cmc_sample_scaling_list, y_fit_mc, color='tab:blue', linestyle='--', alpha=0.5, label=r'$\\epsilon=0.28 \\dfrac{1}{M^{0.42}}$')\n",
    "# plt.plot(qae_sample_scaling_list, y_fit_ae, color='tab:orange', linestyle='--', alpha=0.5, label=r'$\\epsilon=O(1/M)$')\n",
    "# plt.plot(cmc_sample_scaling_list, y_fit_mc, color='tab:blue', linestyle='--', alpha=0.5, label=r'$\\epsilon=O(1/\\sqrt{M})$')\n",
    "plt.xlabel('Number of samples (M)')\n",
    "plt.ylabel(r'Error in mean permeability estimate ($\\epsilon$)')\n",
    "# plt.ylabel('error fracture flow distribution \\n [$\\mu \\\\ \\sigma^2$ - 0.07901 62.45688 / 0.40916 0.05865]')\n",
    "# plt.ylabel('error fracture flow distribution \\n [$\\mu \\\\ \\sigma^2$ - 0.09814 32.44211 / 0.49522 0.04722]')\n",
    "# plt.title('error vs number of samples qae vs cmc')\n",
    "plt.xscale('log', base=2)\n",
    "plt.yscale('log')\n",
    "# plt.grid(linestyle='--')\n",
    "# plt.ylim(2*10**-4, 6*10**-1)\n",
    "plt.legend()\n",
    "\n",
    "# Save or display the plot\n",
    "plt.tight_layout()\n",
    "# plt.savefig('qae_cmc_error_vs_samples_fracture_flow_b_0.25_0.75_f_1_6_m-7_5_n_6_m_12_2_24_fit_ae_m_0.75_mc_m_0.39.png', dpi=300)  # Save as a high-resolution image\n",
    "# plt.savefig('qae_cmc_error_vs_samples_fracture_flow_b_0.25_0.75_f_1_6_m-7_5_n_6_m_12_2_24_fit_ae_a_0.40_b_-0.88_mc_a_0.28_b_-0.42.png', dpi=300)  # Save as a high-resolution image\n",
    "plt.show() # display the plot"
   ]
  },
  {
   "cell_type": "code",
   "execution_count": null,
   "id": "cf571a8b-532e-4306-9dc2-29e9bd376fb4",
   "metadata": {},
   "outputs": [],
   "source": []
  },
  {
   "cell_type": "code",
   "execution_count": 9,
   "id": "c985428e-edd0-4a6e-8ff9-4d1e7bac0564",
   "metadata": {},
   "outputs": [
    {
     "name": "stdout",
     "output_type": "stream",
     "text": [
      "1.4623611626800028 2.004207759516842\n"
     ]
    }
   ],
   "source": [
    "print(1 / np.sqrt(gt_mean), 1 / np.sqrt(gt_mean*(1-gt_mean)))"
   ]
  },
  {
   "cell_type": "code",
   "execution_count": 25,
   "id": "16d71ac5-21ad-477d-93b9-de570d1cbc17",
   "metadata": {},
   "outputs": [
    {
     "data": {
      "image/png": "[encoded data removed]",
      "text/plain": [
       "<Figure size 800x600 with 1 Axes>"
      ]
     },
     "metadata": {},
     "output_type": "display_data"
    }
   ],
   "source": [
    "# plot relative error vs number of samples qae vs cmc / fracture flow distribution\n",
    "\n",
    "# Plotting the error\n",
    "plt.figure(figsize=(8, 6))\n",
    "plt.plot(qae_sample_scaling_list, qae_sample_relative_error_list, color='tab:orange', marker='^', linestyle='-', label='qae')\n",
    "plt.plot(cmc_sample_scaling_list, cmc_sample_relative_error_list, color='tab:blue', marker='o', linestyle='-', label='cmc')\n",
    "plt.xlabel('samples')\n",
    "plt.ylabel(r'Relative error in mean permeability estimate ($\\epsilon$)')\n",
    "# plt.ylabel(r'relative error fracture flow distribution \\n [$\\mu \\\\ \\sigma^2$ - 0.09814 32.44211 / 0.49522 0.04722]')\n",
    "# plt.title('relative error vs number of samples qae vs cmc')\n",
    "plt.xscale('log', base=2)\n",
    "plt.yscale('log')\n",
    "plt.legend()\n",
    "\n",
    "# Save or display the plot\n",
    "plt.tight_layout()\n",
    "# plt.savefig('qae_cmc_relative_error_vs_samples_fracture_flow.png', dpi=300)  # Save as a high-resolution image\n",
    "plt.show() # display the plot"
   ]
  },
  {
   "cell_type": "code",
   "execution_count": null,
   "id": "6747812d-e722-4770-ae85-3be80612a833",
   "metadata": {},
   "outputs": [],
   "source": []
  },
  {
   "cell_type": "code",
   "execution_count": 8,
   "id": "c1115e04-f4ad-43e5-8aff-b55a8b7faa5a",
   "metadata": {},
   "outputs": [
    {
     "name": "stdout",
     "output_type": "stream",
     "text": [
      "2097152\n",
      "0.4087976294082086 0.40879762940820813 0.4087976294082086 0.40879762940820813\n",
      "\n",
      "8\n",
      "0.4001903533935547\n",
      "\n",
      "2097152\n",
      "0.4087976294082086 0.40879762940820835 0.4087976294082086 0.40879762940820835\n",
      "\n",
      "32\n",
      "0.4086284637451172\n",
      "\n",
      "2097152\n",
      "0.4087976294082086 0.4087976294082084 0.4087976294082086 0.4087976294082084\n",
      "\n",
      "128\n",
      "0.4087993651628494\n",
      "\n",
      "[2, 4, 6]\n",
      "[10, 10, 10]\n",
      "[0.40879763, 0.40879763, 0.40879763]\n",
      "[0.3994477, 0.4084801, 0.4084801]\n",
      "[0.00934993, 0.00031753, 0.00031753]\n",
      "[1024, 1024, 1024]\n",
      "\n",
      "CPU times: user 2h 14min 32s, sys: 29min 23s, total: 2h 43min 56s\n",
      "Wall time: 1h 23min 3s\n"
     ]
    }
   ],
   "source": [
    "%%time\n",
    "digits_precision_circuit_MAX   = 10   # base 2 precision = ceil(log2(10**digits_precision_base_10))\n",
    "digits_precision_circuit_FIXED = 6    # fixed size state psi\n",
    "digits_precision_OUT           = 8    # base 10 precision output\n",
    "\n",
    "# Iterate over circuit digits of precision\n",
    "bin_list = []\n",
    "neq_list = []\n",
    "qae_problem_tbl_list = []\n",
    "qae_ae_tbl_list = []\n",
    "qae_dist_mean_tbl_list = []\n",
    "qae_sample_mean_tbl_list = []\n",
    "qae_sample_error_tbl_list = []\n",
    "# qae_sample_relative_error_tbl_list = []\n",
    "qae_sample_scaling_tbl_list = []\n",
    "for digits_precision_circuit in range(2, digits_precision_circuit_FIXED+1, 2):\n",
    "\n",
    "    dpc = digits_precision_circuit\n",
    "\n",
    "    ss = int(math.log2(len(ff_samples)))\n",
    "\n",
    "    index_circuit_unique_counts, dist_mean_normalized, dist_sample_mean_normalized = psi_basis_state_sample_index_counts(digits_precision_circuit=dpc, scaling_samples=ss)\n",
    "\n",
    "    qc = psi_generate_qc(index_circuit_unique_counts, digits_precision_circuit=dpc, scaling_samples=ss)\n",
    "\n",
    "    problem = EstimationProblem(\n",
    "        state_preparation=qc,  # A operator\n",
    "        objective_qubits=[0],  # the \"good\" state Psi1 is identified as measuring |1> in qubit 0\n",
    "    )\n",
    "\n",
    "    neq = digits_precision_circuit_MAX\n",
    "        \n",
    "    sampler = Sampler()\n",
    "    ae = AmplitudeEstimation(\n",
    "        num_eval_qubits=neq,  # the number of evaluation qubits specifies circuit width and accuracy\n",
    "        sampler=sampler,\n",
    "    )\n",
    "\n",
    "    ae_result = ae.estimate(problem)\n",
    "    \n",
    "    est_qoi_normalized = ae_result.estimation\n",
    "    num_queries = ae_result.num_oracle_queries\n",
    "    \n",
    "    dist_mean_normalized_out = float(np.round(dist_mean_normalized, digits_precision_OUT))\n",
    "    sample_mean_out = float(np.round(est_qoi_normalized, digits_precision_OUT))\n",
    "    sample_error_out = float(np.round(sample_error(est_qoi_normalized, dist_mean_normalized), digits_precision_OUT))\n",
    "    # sample_relative_error_out = float(np.round(sample_relative_error(est_qoi_normalized, dist_mean_normalized), digits_precision_OUT))\n",
    "\n",
    "    bin_list.append(dpc)\n",
    "    neq_list.append(neq)\n",
    "    qae_problem_tbl_list.append(problem)\n",
    "    qae_ae_tbl_list.append(ae)\n",
    "    qae_dist_mean_tbl_list.append(dist_mean_normalized_out)\n",
    "    qae_sample_mean_tbl_list.append(sample_mean_out)\n",
    "    qae_sample_error_tbl_list.append(sample_error_out)\n",
    "    # qae_sample_relative_error_tbl_list.append(sample_relative_error_out)\n",
    "    qae_sample_scaling_tbl_list.append(num_queries+1) # total applications of A\n",
    "\n",
    "\n",
    "print(bin_list)\n",
    "print(neq_list)\n",
    "print(qae_dist_mean_tbl_list)\n",
    "print(qae_sample_mean_tbl_list)\n",
    "print(qae_sample_error_tbl_list)\n",
    "# print(qae_sample_relative_error_tbl_list)\n",
    "print(qae_sample_scaling_tbl_list)\n",
    "\n",
    "print()\n",
    "\n",
    "\n",
    "# problem = problem_list[0]\n",
    "# ae = ae_list[0]\n",
    "\n",
    "# ae_circuit = ae.construct_circuit(problem)\n",
    "# ae_circuit.decompose().draw(\n",
    "#     \"mpl\", style=\"clifford\"\n",
    "# )  # decompose 1 level: exposes the Phase estimation circuit!\n",
    "\n",
    "\n",
    "# print(dist_mean, dist_sample_mean, dist_mean_normalized, dist_sample_mean_normalized)\n",
    "\n"
   ]
  },
  {
   "cell_type": "code",
   "execution_count": null,
   "id": "bd9f01cf-df41-4fa1-82f7-a5708ffb38d3",
   "metadata": {},
   "outputs": [],
   "source": []
  },
  {
   "cell_type": "code",
   "execution_count": 7,
   "id": "67018171-f4ce-488a-a11e-44aaf1c5e8dc",
   "metadata": {},
   "outputs": [
    {
     "data": {
      "image/png": "[encoded data removed]",
      "text/plain": [
       "<Figure size 800x600 with 1 Axes>"
      ]
     },
     "metadata": {},
     "output_type": "display_data"
    }
   ],
   "source": [
    "# plot theoretical error vs number of samples qae vs cmc (alpha = 0.05 / 95% CI)\n",
    "\n",
    "x_ss = np.linspace(2**1, 2**10, 100)                # number of samples\n",
    "y_ae_error_vs_ss =          5   * 1/x_ss            # samples =  5 * 1/epsilon   => error =        5  * 1/samples\n",
    "y_mc_error_vs_ss =  np.sqrt(20) * 1/np.sqrt(x_ss)   # samples = 20 * 1/epsilon^2 => error =  sprt(20) * 1/sqrt(samples)\n",
    "\n",
    "# Plotting the error\n",
    "plt.figure(figsize=(8, 6))\n",
    "plt.plot(x_ss, y_ae_error_vs_ss, color='tab:orange', linestyle='-', label='Quantum Amplitude Estimation') # -- -. : / alpha=0.5\n",
    "plt.plot(x_ss, y_mc_error_vs_ss, color='tab:blue', linestyle='-', label='Classical Monte Carlo')\n",
    "plt.xlabel('Number of samples (M)')\n",
    "plt.ylabel('Error in mean estimate ($\\epsilon$)')\n",
    "# plt.title('error vs number of samples qae vs cmc')\n",
    "plt.xscale('log', base=2)\n",
    "plt.yscale('log')\n",
    "# plt.grid(linestyle='--')\n",
    "plt.legend()\n",
    "\n",
    "# Save or display the plot\n",
    "plt.tight_layout()\n",
    "# plt.savefig('qae_cmc_error_vs_samples_theoretical.png', dpi=300)  # Save as a high-resolution image\n",
    "plt.show() # display the plot"
   ]
  },
  {
   "cell_type": "code",
   "execution_count": null,
   "id": "134d22a4-73e8-4e73-9e5a-feca58004a5f",
   "metadata": {},
   "outputs": [],
   "source": []
  },
  {
   "cell_type": "code",
   "execution_count": 9,
   "id": "280304c5-3e30-4684-914e-c1400413517b",
   "metadata": {},
   "outputs": [
    {
     "name": "stdout",
     "output_type": "stream",
     "text": [
      "[0, 1, 2, 3, 4, 5, 6, 7]\n",
      "[0.0, 0.125, 0.25, 0.375, 0.5, 0.625, 0.75, 0.875]\n",
      "[0.0, 0.14645, 0.5, 0.85355, 1.0, 0.85355, 0.5, 0.14645]\n"
     ]
    }
   ],
   "source": [
    "# \n",
    "n = 3\n",
    "y_measured = list(range(0,2**n))\n",
    "theta_est_nwrt_pi = [(value)*2**(-n) for value in y_measured]\n",
    "# theta_est_nwrt_pi = [(value+0.5)*2**(-n) for value in y_measured]\n",
    "out_est_a = [np.round(math.sin(value*math.pi)**2,5) for value in theta_est_nwrt_pi]\n",
    "\n",
    "print(y_measured)\n",
    "print(theta_est_nwrt_pi)\n",
    "print(out_est_a)"
   ]
  },
  {
   "cell_type": "code",
   "execution_count": 13,
   "id": "362d5c6e-0ba3-4de8-a595-61d0e36eb2ed",
   "metadata": {},
   "outputs": [
    {
     "name": "stdout",
     "output_type": "stream",
     "text": [
      "0.24930289912033501 0.49781\n"
     ]
    }
   ],
   "source": [
    "theta_nwrt_pi = np.arcsin(math.sqrt(0.49781)) / math.pi\n",
    "out_a = np.sin(theta_nwrt_pi*math.pi)**2\n",
    "\n",
    "print(theta_nwrt_pi, out_a)"
   ]
  },
  {
   "cell_type": "code",
   "execution_count": 10,
   "id": "974cc4f3-47c9-4f09-a1b6-837b0b13e025",
   "metadata": {},
   "outputs": [
    {
     "name": "stdout",
     "output_type": "stream",
     "text": [
      "0.22092324898335547 0.4091600000000001\n"
     ]
    }
   ],
   "source": [
    "theta_nwrt_pi = np.arcsin(math.sqrt(0.40916)) / math.pi\n",
    "out_a = np.sin(theta_nwrt_pi*math.pi)**2\n",
    "\n",
    "print(theta_nwrt_pi, out_a)"
   ]
  },
  {
   "cell_type": "code",
   "execution_count": null,
   "id": "66290c44-9c79-4002-9002-b0d68d67623e",
   "metadata": {},
   "outputs": [],
   "source": []
  },
  {
   "cell_type": "code",
   "execution_count": 77,
   "id": "3b3e8e4f-b451-48fa-9bfc-85873639eaa0",
   "metadata": {},
   "outputs": [
    {
     "name": "stdout",
     "output_type": "stream",
     "text": [
      "2097152\n",
      "0.4087976294082086 0.4087976294082081 0.4087976294082086 0.4087976294082081\n",
      "\n",
      "4083\n",
      "2097152\n"
     ]
    }
   ],
   "source": [
    "dpc = 12\n",
    "ss = 2**21\n",
    "index_circuit_unique_counts, dist_mean_normalized, dist_sample_mean_normalized = psi_basis_state_sample_index_counts(digits_precision_circuit=dpc, scaling_samples=21)\n",
    "# print(index_circuit_unique_counts)\n",
    "print(len(index_circuit_unique_counts))\n",
    "print(ss)"
   ]
  },
  {
   "cell_type": "code",
   "execution_count": 78,
   "id": "7e6a96fd-eeaf-4f63-851b-020402648ab6",
   "metadata": {},
   "outputs": [
    {
     "name": "stdout",
     "output_type": "stream",
     "text": [
      "[0.39404297 0.39404297 0.39404297 ... 0.99804688 0.99804688 0.99804688] 2097152 <class 'numpy.ndarray'>\n",
      "0.40879750112071633 0.057859565167133\n"
     ]
    }
   ],
   "source": [
    "test_ff = np.concatenate([np.full(j,i) for i, j in index_circuit_unique_counts])\n",
    "test_ff = test_ff * 2**(-dpc)\n",
    "print(test_ff,len(test_ff),type(test_ff))\n",
    "print(np.mean(test_ff),np.var(test_ff))"
   ]
  },
  {
   "cell_type": "code",
   "execution_count": 79,
   "id": "e017c056-1b21-40f9-8342-0422010ab6b8",
   "metadata": {},
   "outputs": [
    {
     "name": "stdout",
     "output_type": "stream",
     "text": [
      "156\n",
      "0.5947473584674299 0.09059008680804183\n"
     ]
    }
   ],
   "source": [
    "val_uc = np.array([i for i, j in index_circuit_unique_counts])\n",
    "cnt_uc = np.array([j for i, j in index_circuit_unique_counts])\n",
    "rvw = max(cnt_uc) - cnt_uc\n",
    "c_scale = ss / sum(rvw)\n",
    "cnt_rvw_uc = np.round(c_scale * rvw).astype(int)\n",
    "\n",
    "if sum(cnt_rvw_uc) >= ss:\n",
    "    N = sum(cnt_rvw_uc) - ss\n",
    "    res = sorted(range(len(cnt_rvw_uc)), key = lambda sub: cnt_rvw_uc[sub])[-N:]\n",
    "    cnt_rvw_uc[res]-=1\n",
    "else:\n",
    "    N = ss - sum(cnt_rvw_uc)\n",
    "    res = sorted(range(len(cnt_rvw_uc)), key = lambda sub: cnt_rvw_uc[sub])[-N:]\n",
    "    cnt_rvw_uc[res]+=1\n",
    "\n",
    "index_rvw_circuit_unique_counts = zip(val_uc, cnt_rvw_uc)\n",
    "test_rvw_ff = np.concatenate([np.full(j,i) for i, j in index_rvw_circuit_unique_counts])\n",
    "test_rvw_ff = test_rvw_ff * 2**(-dpc)\n",
    "\n",
    "print(N)\n",
    "# print(N, res, type(res))\n",
    "# print(cnt_rvw_uc, sum(cnt_rvw_uc), c_scale)\n",
    "# print(test_rvw_ff, len(test_rvw_ff))\n",
    "print(np.mean(test_rvw_ff),np.var(test_rvw_ff))"
   ]
  },
  {
   "cell_type": "code",
   "execution_count": 80,
   "id": "6328bc39-d34e-454f-93ba-fe97131a0cf1",
   "metadata": {},
   "outputs": [
    {
     "name": "stdout",
     "output_type": "stream",
     "text": [
      "0.40889733 0.05788783\n"
     ]
    }
   ],
   "source": [
    "min_val_gt = np.min(test_ff)\n",
    "max_val_gt = np.max(test_ff)\n",
    "dif_max_min_val_gt = max_val_gt - min_val_gt\n",
    "test_ff = (test_ff - min_val_gt) / dif_max_min_val_gt\n",
    "\n",
    "test_ff_mean = np.mean(test_ff)\n",
    "test_ff_var  = np.var(test_ff)\n",
    "print(np.round(test_ff_mean,8), np.round(test_ff_var,8))"
   ]
  },
  {
   "cell_type": "code",
   "execution_count": 81,
   "id": "f94629db-b69d-431f-87e4-96d56a7ce29a",
   "metadata": {},
   "outputs": [
    {
     "name": "stdout",
     "output_type": "stream",
     "text": [
      "0.5948926 0.09063434\n"
     ]
    }
   ],
   "source": [
    "min_val_gt = np.min(test_rvw_ff)\n",
    "max_val_gt = np.max(test_rvw_ff)\n",
    "dif_max_min_val_gt = max_val_gt - min_val_gt\n",
    "test_rvw_ff = (test_rvw_ff - min_val_gt) / dif_max_min_val_gt\n",
    "\n",
    "test_rvw_ff_mean = np.mean(test_rvw_ff)\n",
    "test_rvw_ff_var  = np.var(test_rvw_ff)\n",
    "print(np.round(test_rvw_ff_mean,8), np.round(test_rvw_ff_var,8))"
   ]
  },
  {
   "cell_type": "code",
   "execution_count": null,
   "id": "f73f4718-14ff-4e70-958f-7418578b8270",
   "metadata": {},
   "outputs": [],
   "source": []
  }
 ],
 "metadata": {
  "kernelspec": {
   "display_name": "qiskit",
   "language": "python",
   "name": "qiskit"
  },
  "language_info": {
   "codemirror_mode": {
    "name": "ipython",
    "version": 3
   },
   "file_extension": ".py",
   "mimetype": "text/x-python",
   "name": "python",
   "nbconvert_exporter": "python",
   "pygments_lexer": "ipython3",
   "version": "3.12.3"
  }
 },
 "nbformat": 4,
 "nbformat_minor": 5
}
